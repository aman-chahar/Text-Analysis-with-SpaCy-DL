{
  "nbformat": 4,
  "nbformat_minor": 0,
  "metadata": {
    "colab": {
      "provenance": []
    },
    "kernelspec": {
      "name": "python3",
      "display_name": "Python 3"
    },
    "language_info": {
      "name": "python"
    }
  },
  "cells": [
    {
      "cell_type": "code",
      "execution_count": 8,
      "metadata": {
        "colab": {
          "base_uri": "https://localhost:8080/"
        },
        "id": "tLdRtrhPyoNB",
        "outputId": "e1c6febd-4b11-4776-800e-66fa571533aa"
      },
      "outputs": [
        {
          "output_type": "stream",
          "name": "stderr",
          "text": [
            "[nltk_data] Downloading package punkt to /root/nltk_data...\n",
            "[nltk_data]   Package punkt is already up-to-date!\n",
            "[nltk_data] Downloading package wordnet to /root/nltk_data...\n"
          ]
        },
        {
          "output_type": "execute_result",
          "data": {
            "text/plain": [
              "True"
            ]
          },
          "metadata": {},
          "execution_count": 8
        }
      ],
      "source": [
        "# Task 1: Import necessary libraries\n",
        "\n",
        "import pandas as pd\n",
        "import nltk\n",
        "from nltk.tokenize import word_tokenize, sent_tokenize\n",
        "from nltk.stem import PorterStemmer, WordNetLemmatizer\n",
        "import spacy\n",
        "from spacy import displacy\n",
        "from gensim.models import Word2Vec\n",
        "from sklearn.feature_extraction.text import TfidfVectorizer\n",
        "from sklearn.metrics.pairwise import cosine_similarity\n",
        "nltk.download('punkt')\n",
        "nltk.download('wordnet')"
      ]
    },
    {
      "cell_type": "code",
      "source": [
        "# Task 2: Load the dataset\n",
        "file_path = \"/content/drive/MyDrive/Colab Notebooks/BBC_DATA.csv\"\n",
        "df = pd.read_csv(file_path)\n",
        "display(df.head())"
      ],
      "metadata": {
        "colab": {
          "base_uri": "https://localhost:8080/",
          "height": 206
        },
        "id": "w3ZbPjUgzhtc",
        "outputId": "2ca6b2b1-09f8-44fe-a314-1cb40cc7e251"
      },
      "execution_count": 2,
      "outputs": [
        {
          "output_type": "display_data",
          "data": {
            "text/plain": [
              "   ArticleId                                               Text  Category\n",
              "0       1833  worldcom ex-boss launches defence lawyers defe...  business\n",
              "1        154  german business confidence slides german busin...  business\n",
              "2       1101  bbc poll indicates economic gloom citizens in ...  business\n",
              "3       1976  lifestyle  governs mobile choice  faster  bett...      tech\n",
              "4        917  enron bosses in $168m payout eighteen former e...  business"
            ],
            "text/html": [
              "\n",
              "  <div id=\"df-d7bbe2b1-e75a-4b1b-bf4d-51b27fd64a65\" class=\"colab-df-container\">\n",
              "    <div>\n",
              "<style scoped>\n",
              "    .dataframe tbody tr th:only-of-type {\n",
              "        vertical-align: middle;\n",
              "    }\n",
              "\n",
              "    .dataframe tbody tr th {\n",
              "        vertical-align: top;\n",
              "    }\n",
              "\n",
              "    .dataframe thead th {\n",
              "        text-align: right;\n",
              "    }\n",
              "</style>\n",
              "<table border=\"1\" class=\"dataframe\">\n",
              "  <thead>\n",
              "    <tr style=\"text-align: right;\">\n",
              "      <th></th>\n",
              "      <th>ArticleId</th>\n",
              "      <th>Text</th>\n",
              "      <th>Category</th>\n",
              "    </tr>\n",
              "  </thead>\n",
              "  <tbody>\n",
              "    <tr>\n",
              "      <th>0</th>\n",
              "      <td>1833</td>\n",
              "      <td>worldcom ex-boss launches defence lawyers defe...</td>\n",
              "      <td>business</td>\n",
              "    </tr>\n",
              "    <tr>\n",
              "      <th>1</th>\n",
              "      <td>154</td>\n",
              "      <td>german business confidence slides german busin...</td>\n",
              "      <td>business</td>\n",
              "    </tr>\n",
              "    <tr>\n",
              "      <th>2</th>\n",
              "      <td>1101</td>\n",
              "      <td>bbc poll indicates economic gloom citizens in ...</td>\n",
              "      <td>business</td>\n",
              "    </tr>\n",
              "    <tr>\n",
              "      <th>3</th>\n",
              "      <td>1976</td>\n",
              "      <td>lifestyle  governs mobile choice  faster  bett...</td>\n",
              "      <td>tech</td>\n",
              "    </tr>\n",
              "    <tr>\n",
              "      <th>4</th>\n",
              "      <td>917</td>\n",
              "      <td>enron bosses in $168m payout eighteen former e...</td>\n",
              "      <td>business</td>\n",
              "    </tr>\n",
              "  </tbody>\n",
              "</table>\n",
              "</div>\n",
              "    <div class=\"colab-df-buttons\">\n",
              "\n",
              "  <div class=\"colab-df-container\">\n",
              "    <button class=\"colab-df-convert\" onclick=\"convertToInteractive('df-d7bbe2b1-e75a-4b1b-bf4d-51b27fd64a65')\"\n",
              "            title=\"Convert this dataframe to an interactive table.\"\n",
              "            style=\"display:none;\">\n",
              "\n",
              "  <svg xmlns=\"http://www.w3.org/2000/svg\" height=\"24px\" viewBox=\"0 -960 960 960\">\n",
              "    <path d=\"M120-120v-720h720v720H120Zm60-500h600v-160H180v160Zm220 220h160v-160H400v160Zm0 220h160v-160H400v160ZM180-400h160v-160H180v160Zm440 0h160v-160H620v160ZM180-180h160v-160H180v160Zm440 0h160v-160H620v160Z\"/>\n",
              "  </svg>\n",
              "    </button>\n",
              "\n",
              "  <style>\n",
              "    .colab-df-container {\n",
              "      display:flex;\n",
              "      gap: 12px;\n",
              "    }\n",
              "\n",
              "    .colab-df-convert {\n",
              "      background-color: #E8F0FE;\n",
              "      border: none;\n",
              "      border-radius: 50%;\n",
              "      cursor: pointer;\n",
              "      display: none;\n",
              "      fill: #1967D2;\n",
              "      height: 32px;\n",
              "      padding: 0 0 0 0;\n",
              "      width: 32px;\n",
              "    }\n",
              "\n",
              "    .colab-df-convert:hover {\n",
              "      background-color: #E2EBFA;\n",
              "      box-shadow: 0px 1px 2px rgba(60, 64, 67, 0.3), 0px 1px 3px 1px rgba(60, 64, 67, 0.15);\n",
              "      fill: #174EA6;\n",
              "    }\n",
              "\n",
              "    .colab-df-buttons div {\n",
              "      margin-bottom: 4px;\n",
              "    }\n",
              "\n",
              "    [theme=dark] .colab-df-convert {\n",
              "      background-color: #3B4455;\n",
              "      fill: #D2E3FC;\n",
              "    }\n",
              "\n",
              "    [theme=dark] .colab-df-convert:hover {\n",
              "      background-color: #434B5C;\n",
              "      box-shadow: 0px 1px 3px 1px rgba(0, 0, 0, 0.15);\n",
              "      filter: drop-shadow(0px 1px 2px rgba(0, 0, 0, 0.3));\n",
              "      fill: #FFFFFF;\n",
              "    }\n",
              "  </style>\n",
              "\n",
              "    <script>\n",
              "      const buttonEl =\n",
              "        document.querySelector('#df-d7bbe2b1-e75a-4b1b-bf4d-51b27fd64a65 button.colab-df-convert');\n",
              "      buttonEl.style.display =\n",
              "        google.colab.kernel.accessAllowed ? 'block' : 'none';\n",
              "\n",
              "      async function convertToInteractive(key) {\n",
              "        const element = document.querySelector('#df-d7bbe2b1-e75a-4b1b-bf4d-51b27fd64a65');\n",
              "        const dataTable =\n",
              "          await google.colab.kernel.invokeFunction('convertToInteractive',\n",
              "                                                    [key], {});\n",
              "        if (!dataTable) return;\n",
              "\n",
              "        const docLinkHtml = 'Like what you see? Visit the ' +\n",
              "          '<a target=\"_blank\" href=https://colab.research.google.com/notebooks/data_table.ipynb>data table notebook</a>'\n",
              "          + ' to learn more about interactive tables.';\n",
              "        element.innerHTML = '';\n",
              "        dataTable['output_type'] = 'display_data';\n",
              "        await google.colab.output.renderOutput(dataTable, element);\n",
              "        const docLink = document.createElement('div');\n",
              "        docLink.innerHTML = docLinkHtml;\n",
              "        element.appendChild(docLink);\n",
              "      }\n",
              "    </script>\n",
              "  </div>\n",
              "\n",
              "\n",
              "<div id=\"df-6d57f55d-23b7-4089-b31e-f2062f1db008\">\n",
              "  <button class=\"colab-df-quickchart\" onclick=\"quickchart('df-6d57f55d-23b7-4089-b31e-f2062f1db008')\"\n",
              "            title=\"Suggest charts\"\n",
              "            style=\"display:none;\">\n",
              "\n",
              "<svg xmlns=\"http://www.w3.org/2000/svg\" height=\"24px\"viewBox=\"0 0 24 24\"\n",
              "     width=\"24px\">\n",
              "    <g>\n",
              "        <path d=\"M19 3H5c-1.1 0-2 .9-2 2v14c0 1.1.9 2 2 2h14c1.1 0 2-.9 2-2V5c0-1.1-.9-2-2-2zM9 17H7v-7h2v7zm4 0h-2V7h2v10zm4 0h-2v-4h2v4z\"/>\n",
              "    </g>\n",
              "</svg>\n",
              "  </button>\n",
              "\n",
              "<style>\n",
              "  .colab-df-quickchart {\n",
              "      --bg-color: #E8F0FE;\n",
              "      --fill-color: #1967D2;\n",
              "      --hover-bg-color: #E2EBFA;\n",
              "      --hover-fill-color: #174EA6;\n",
              "      --disabled-fill-color: #AAA;\n",
              "      --disabled-bg-color: #DDD;\n",
              "  }\n",
              "\n",
              "  [theme=dark] .colab-df-quickchart {\n",
              "      --bg-color: #3B4455;\n",
              "      --fill-color: #D2E3FC;\n",
              "      --hover-bg-color: #434B5C;\n",
              "      --hover-fill-color: #FFFFFF;\n",
              "      --disabled-bg-color: #3B4455;\n",
              "      --disabled-fill-color: #666;\n",
              "  }\n",
              "\n",
              "  .colab-df-quickchart {\n",
              "    background-color: var(--bg-color);\n",
              "    border: none;\n",
              "    border-radius: 50%;\n",
              "    cursor: pointer;\n",
              "    display: none;\n",
              "    fill: var(--fill-color);\n",
              "    height: 32px;\n",
              "    padding: 0;\n",
              "    width: 32px;\n",
              "  }\n",
              "\n",
              "  .colab-df-quickchart:hover {\n",
              "    background-color: var(--hover-bg-color);\n",
              "    box-shadow: 0 1px 2px rgba(60, 64, 67, 0.3), 0 1px 3px 1px rgba(60, 64, 67, 0.15);\n",
              "    fill: var(--button-hover-fill-color);\n",
              "  }\n",
              "\n",
              "  .colab-df-quickchart-complete:disabled,\n",
              "  .colab-df-quickchart-complete:disabled:hover {\n",
              "    background-color: var(--disabled-bg-color);\n",
              "    fill: var(--disabled-fill-color);\n",
              "    box-shadow: none;\n",
              "  }\n",
              "\n",
              "  .colab-df-spinner {\n",
              "    border: 2px solid var(--fill-color);\n",
              "    border-color: transparent;\n",
              "    border-bottom-color: var(--fill-color);\n",
              "    animation:\n",
              "      spin 1s steps(1) infinite;\n",
              "  }\n",
              "\n",
              "  @keyframes spin {\n",
              "    0% {\n",
              "      border-color: transparent;\n",
              "      border-bottom-color: var(--fill-color);\n",
              "      border-left-color: var(--fill-color);\n",
              "    }\n",
              "    20% {\n",
              "      border-color: transparent;\n",
              "      border-left-color: var(--fill-color);\n",
              "      border-top-color: var(--fill-color);\n",
              "    }\n",
              "    30% {\n",
              "      border-color: transparent;\n",
              "      border-left-color: var(--fill-color);\n",
              "      border-top-color: var(--fill-color);\n",
              "      border-right-color: var(--fill-color);\n",
              "    }\n",
              "    40% {\n",
              "      border-color: transparent;\n",
              "      border-right-color: var(--fill-color);\n",
              "      border-top-color: var(--fill-color);\n",
              "    }\n",
              "    60% {\n",
              "      border-color: transparent;\n",
              "      border-right-color: var(--fill-color);\n",
              "    }\n",
              "    80% {\n",
              "      border-color: transparent;\n",
              "      border-right-color: var(--fill-color);\n",
              "      border-bottom-color: var(--fill-color);\n",
              "    }\n",
              "    90% {\n",
              "      border-color: transparent;\n",
              "      border-bottom-color: var(--fill-color);\n",
              "    }\n",
              "  }\n",
              "</style>\n",
              "\n",
              "  <script>\n",
              "    async function quickchart(key) {\n",
              "      const quickchartButtonEl =\n",
              "        document.querySelector('#' + key + ' button');\n",
              "      quickchartButtonEl.disabled = true;  // To prevent multiple clicks.\n",
              "      quickchartButtonEl.classList.add('colab-df-spinner');\n",
              "      try {\n",
              "        const charts = await google.colab.kernel.invokeFunction(\n",
              "            'suggestCharts', [key], {});\n",
              "      } catch (error) {\n",
              "        console.error('Error during call to suggestCharts:', error);\n",
              "      }\n",
              "      quickchartButtonEl.classList.remove('colab-df-spinner');\n",
              "      quickchartButtonEl.classList.add('colab-df-quickchart-complete');\n",
              "    }\n",
              "    (() => {\n",
              "      let quickchartButtonEl =\n",
              "        document.querySelector('#df-6d57f55d-23b7-4089-b31e-f2062f1db008 button');\n",
              "      quickchartButtonEl.style.display =\n",
              "        google.colab.kernel.accessAllowed ? 'block' : 'none';\n",
              "    })();\n",
              "  </script>\n",
              "</div>\n",
              "\n",
              "    </div>\n",
              "  </div>\n"
            ]
          },
          "metadata": {}
        }
      ]
    },
    {
      "cell_type": "code",
      "source": [
        "# Task 3: Tokenization with NLTK\n",
        "\n",
        "sample_article = df.iloc[0, 1]  # Assuming the 'Text' column contains the news articles\n",
        "tokens_words = word_tokenize(sample_article)\n",
        "tokens_sentences = sent_tokenize(sample_article)"
      ],
      "metadata": {
        "id": "5KP6nFXKzodF"
      },
      "execution_count": 4,
      "outputs": []
    },
    {
      "cell_type": "code",
      "source": [
        "print(\"\\nTokenization with NLTK:\")\n",
        "print(\"Tokenized Words:\", tokens_words)\n",
        "print(\"Tokenized Sentences:\", tokens_sentences)"
      ],
      "metadata": {
        "colab": {
          "base_uri": "https://localhost:8080/"
        },
        "id": "SeY6LSpe0Nf-",
        "outputId": "5de88646-dafe-4b0b-aea1-77bc171ce7d5"
      },
      "execution_count": 5,
      "outputs": [
        {
          "output_type": "stream",
          "name": "stdout",
          "text": [
            "\n",
            "Tokenization with NLTK:\n",
            "Tokenized Words: ['worldcom', 'ex-boss', 'launches', 'defence', 'lawyers', 'defending', 'former', 'worldcom', 'chief', 'bernie', 'ebbers', 'against', 'a', 'battery', 'of', 'fraud', 'charges', 'have', 'called', 'a', 'company', 'whistleblower', 'as', 'their', 'first', 'witness', '.', 'cynthia', 'cooper', 'worldcom', 's', 'ex-head', 'of', 'internal', 'accounting', 'alerted', 'directors', 'to', 'irregular', 'accounting', 'practices', 'at', 'the', 'us', 'telecoms', 'giant', 'in', '2002.', 'her', 'warnings', 'led', 'to', 'the', 'collapse', 'of', 'the', 'firm', 'following', 'the', 'discovery', 'of', 'an', '$', '11bn', '(', '£5.7bn', ')', 'accounting', 'fraud', '.', 'mr', 'ebbers', 'has', 'pleaded', 'not', 'guilty', 'to', 'charges', 'of', 'fraud', 'and', 'conspiracy', '.', 'prosecution', 'lawyers', 'have', 'argued', 'that', 'mr', 'ebbers', 'orchestrated', 'a', 'series', 'of', 'accounting', 'tricks', 'at', 'worldcom', 'ordering', 'employees', 'to', 'hide', 'expenses', 'and', 'inflate', 'revenues', 'to', 'meet', 'wall', 'street', 'earnings', 'estimates', '.', 'but', 'ms', 'cooper', 'who', 'now', 'runs', 'her', 'own', 'consulting', 'business', 'told', 'a', 'jury', 'in', 'new', 'york', 'on', 'wednesday', 'that', 'external', 'auditors', 'arthur', 'andersen', 'had', 'approved', 'worldcom', 's', 'accounting', 'in', 'early', '2001', 'and', '2002.', 'she', 'said', 'andersen', 'had', 'given', 'a', 'green', 'light', 'to', 'the', 'procedures', 'and', 'practices', 'used', 'by', 'worldcom', '.', 'mr', 'ebber', 's', 'lawyers', 'have', 'said', 'he', 'was', 'unaware', 'of', 'the', 'fraud', 'arguing', 'that', 'auditors', 'did', 'not', 'alert', 'him', 'to', 'any', 'problems', '.', 'ms', 'cooper', 'also', 'said', 'that', 'during', 'shareholder', 'meetings', 'mr', 'ebbers', 'often', 'passed', 'over', 'technical', 'questions', 'to', 'the', 'company', 's', 'finance', 'chief', 'giving', 'only', 'brief', 'answers', 'himself', '.', 'the', 'prosecution', 's', 'star', 'witness', 'former', 'worldcom', 'financial', 'chief', 'scott', 'sullivan', 'has', 'said', 'that', 'mr', 'ebbers', 'ordered', 'accounting', 'adjustments', 'at', 'the', 'firm', 'telling', 'him', 'to', 'hit', 'our', 'books', '.', 'however', 'ms', 'cooper', 'said', 'mr', 'sullivan', 'had', 'not', 'mentioned', 'anything', 'uncomfortable', 'about', 'worldcom', 's', 'accounting', 'during', 'a', '2001', 'audit', 'committee', 'meeting', '.', 'mr', 'ebbers', 'could', 'face', 'a', 'jail', 'sentence', 'of', '85', 'years', 'if', 'convicted', 'of', 'all', 'the', 'charges', 'he', 'is', 'facing', '.', 'worldcom', 'emerged', 'from', 'bankruptcy', 'protection', 'in', '2004', 'and', 'is', 'now', 'known', 'as', 'mci', '.', 'last', 'week', 'mci', 'agreed', 'to', 'a', 'buyout', 'by', 'verizon', 'communications', 'in', 'a', 'deal', 'valued', 'at', '$', '6.75bn', '.']\n",
            "Tokenized Sentences: ['worldcom ex-boss launches defence lawyers defending former worldcom chief bernie ebbers against a battery of fraud charges have called a company whistleblower as their first witness.', 'cynthia cooper  worldcom s ex-head of internal accounting  alerted directors to irregular accounting practices at the us telecoms giant in 2002. her warnings led to the collapse of the firm following the discovery of an $11bn (£5.7bn) accounting fraud.', 'mr ebbers has pleaded not guilty to charges of fraud and conspiracy.', 'prosecution lawyers have argued that mr ebbers orchestrated a series of accounting tricks at worldcom  ordering employees to hide expenses and inflate revenues to meet wall street earnings estimates.', 'but ms cooper  who now runs her own consulting business  told a jury in new york on wednesday that external auditors arthur andersen had approved worldcom s accounting in early 2001 and 2002. she said andersen had given a  green light  to the procedures and practices used by worldcom.', 'mr ebber s lawyers have said he was unaware of the fraud  arguing that auditors did not alert him to any problems.', 'ms cooper also said that during shareholder meetings mr ebbers often passed over technical questions to the company s finance chief  giving only  brief  answers himself.', 'the prosecution s star witness  former worldcom financial chief scott sullivan  has said that mr ebbers ordered accounting adjustments at the firm  telling him to  hit our books .', 'however  ms cooper said mr sullivan had not mentioned  anything uncomfortable  about worldcom s accounting during a 2001 audit committee meeting.', 'mr ebbers could face a jail sentence of 85 years if convicted of all the charges he is facing.', 'worldcom emerged from bankruptcy protection in 2004  and is now known as mci.', 'last week  mci agreed to a buyout by verizon communications in a deal valued at $6.75bn.']\n"
          ]
        }
      ]
    },
    {
      "cell_type": "code",
      "source": [
        "# Task 4: Stemming and Lemmatization with NLTK\n",
        "porter_stemmer = PorterStemmer()\n",
        "wordnet_lemmatizer = WordNetLemmatizer()"
      ],
      "metadata": {
        "id": "YRmquB9BZ7Xb"
      },
      "execution_count": 6,
      "outputs": []
    },
    {
      "cell_type": "code",
      "source": [
        "stemmed_words = [porter_stemmer.stem(word) for word in tokens_words]\n",
        "lemmatized_words = [wordnet_lemmatizer.lemmatize(word) for word in tokens_words]"
      ],
      "metadata": {
        "id": "vvlv0QcSaJLq"
      },
      "execution_count": 9,
      "outputs": []
    },
    {
      "cell_type": "code",
      "source": [
        "print(\"\\nStemming with NLTK:\", stemmed_words)\n",
        "print(\"Lemmatization with NLTK:\", lemmatized_words)"
      ],
      "metadata": {
        "colab": {
          "base_uri": "https://localhost:8080/"
        },
        "id": "JS0zpd5MaMtR",
        "outputId": "fda73802-db4d-46ba-984e-f4feb001dda8"
      },
      "execution_count": 10,
      "outputs": [
        {
          "output_type": "stream",
          "name": "stdout",
          "text": [
            "\n",
            "Stemming with NLTK: ['worldcom', 'ex-boss', 'launch', 'defenc', 'lawyer', 'defend', 'former', 'worldcom', 'chief', 'berni', 'ebber', 'against', 'a', 'batteri', 'of', 'fraud', 'charg', 'have', 'call', 'a', 'compani', 'whistleblow', 'as', 'their', 'first', 'wit', '.', 'cynthia', 'cooper', 'worldcom', 's', 'ex-head', 'of', 'intern', 'account', 'alert', 'director', 'to', 'irregular', 'account', 'practic', 'at', 'the', 'us', 'telecom', 'giant', 'in', '2002.', 'her', 'warn', 'led', 'to', 'the', 'collaps', 'of', 'the', 'firm', 'follow', 'the', 'discoveri', 'of', 'an', '$', '11bn', '(', '£5.7bn', ')', 'account', 'fraud', '.', 'mr', 'ebber', 'ha', 'plead', 'not', 'guilti', 'to', 'charg', 'of', 'fraud', 'and', 'conspiraci', '.', 'prosecut', 'lawyer', 'have', 'argu', 'that', 'mr', 'ebber', 'orchestr', 'a', 'seri', 'of', 'account', 'trick', 'at', 'worldcom', 'order', 'employe', 'to', 'hide', 'expens', 'and', 'inflat', 'revenu', 'to', 'meet', 'wall', 'street', 'earn', 'estim', '.', 'but', 'ms', 'cooper', 'who', 'now', 'run', 'her', 'own', 'consult', 'busi', 'told', 'a', 'juri', 'in', 'new', 'york', 'on', 'wednesday', 'that', 'extern', 'auditor', 'arthur', 'andersen', 'had', 'approv', 'worldcom', 's', 'account', 'in', 'earli', '2001', 'and', '2002.', 'she', 'said', 'andersen', 'had', 'given', 'a', 'green', 'light', 'to', 'the', 'procedur', 'and', 'practic', 'use', 'by', 'worldcom', '.', 'mr', 'ebber', 's', 'lawyer', 'have', 'said', 'he', 'wa', 'unawar', 'of', 'the', 'fraud', 'argu', 'that', 'auditor', 'did', 'not', 'alert', 'him', 'to', 'ani', 'problem', '.', 'ms', 'cooper', 'also', 'said', 'that', 'dure', 'sharehold', 'meet', 'mr', 'ebber', 'often', 'pass', 'over', 'technic', 'question', 'to', 'the', 'compani', 's', 'financ', 'chief', 'give', 'onli', 'brief', 'answer', 'himself', '.', 'the', 'prosecut', 's', 'star', 'wit', 'former', 'worldcom', 'financi', 'chief', 'scott', 'sullivan', 'ha', 'said', 'that', 'mr', 'ebber', 'order', 'account', 'adjust', 'at', 'the', 'firm', 'tell', 'him', 'to', 'hit', 'our', 'book', '.', 'howev', 'ms', 'cooper', 'said', 'mr', 'sullivan', 'had', 'not', 'mention', 'anyth', 'uncomfort', 'about', 'worldcom', 's', 'account', 'dure', 'a', '2001', 'audit', 'committe', 'meet', '.', 'mr', 'ebber', 'could', 'face', 'a', 'jail', 'sentenc', 'of', '85', 'year', 'if', 'convict', 'of', 'all', 'the', 'charg', 'he', 'is', 'face', '.', 'worldcom', 'emerg', 'from', 'bankruptci', 'protect', 'in', '2004', 'and', 'is', 'now', 'known', 'as', 'mci', '.', 'last', 'week', 'mci', 'agre', 'to', 'a', 'buyout', 'by', 'verizon', 'commun', 'in', 'a', 'deal', 'valu', 'at', '$', '6.75bn', '.']\n",
            "Lemmatization with NLTK: ['worldcom', 'ex-boss', 'launch', 'defence', 'lawyer', 'defending', 'former', 'worldcom', 'chief', 'bernie', 'ebbers', 'against', 'a', 'battery', 'of', 'fraud', 'charge', 'have', 'called', 'a', 'company', 'whistleblower', 'a', 'their', 'first', 'witness', '.', 'cynthia', 'cooper', 'worldcom', 's', 'ex-head', 'of', 'internal', 'accounting', 'alerted', 'director', 'to', 'irregular', 'accounting', 'practice', 'at', 'the', 'u', 'telecom', 'giant', 'in', '2002.', 'her', 'warning', 'led', 'to', 'the', 'collapse', 'of', 'the', 'firm', 'following', 'the', 'discovery', 'of', 'an', '$', '11bn', '(', '£5.7bn', ')', 'accounting', 'fraud', '.', 'mr', 'ebbers', 'ha', 'pleaded', 'not', 'guilty', 'to', 'charge', 'of', 'fraud', 'and', 'conspiracy', '.', 'prosecution', 'lawyer', 'have', 'argued', 'that', 'mr', 'ebbers', 'orchestrated', 'a', 'series', 'of', 'accounting', 'trick', 'at', 'worldcom', 'ordering', 'employee', 'to', 'hide', 'expense', 'and', 'inflate', 'revenue', 'to', 'meet', 'wall', 'street', 'earnings', 'estimate', '.', 'but', 'm', 'cooper', 'who', 'now', 'run', 'her', 'own', 'consulting', 'business', 'told', 'a', 'jury', 'in', 'new', 'york', 'on', 'wednesday', 'that', 'external', 'auditor', 'arthur', 'andersen', 'had', 'approved', 'worldcom', 's', 'accounting', 'in', 'early', '2001', 'and', '2002.', 'she', 'said', 'andersen', 'had', 'given', 'a', 'green', 'light', 'to', 'the', 'procedure', 'and', 'practice', 'used', 'by', 'worldcom', '.', 'mr', 'ebber', 's', 'lawyer', 'have', 'said', 'he', 'wa', 'unaware', 'of', 'the', 'fraud', 'arguing', 'that', 'auditor', 'did', 'not', 'alert', 'him', 'to', 'any', 'problem', '.', 'm', 'cooper', 'also', 'said', 'that', 'during', 'shareholder', 'meeting', 'mr', 'ebbers', 'often', 'passed', 'over', 'technical', 'question', 'to', 'the', 'company', 's', 'finance', 'chief', 'giving', 'only', 'brief', 'answer', 'himself', '.', 'the', 'prosecution', 's', 'star', 'witness', 'former', 'worldcom', 'financial', 'chief', 'scott', 'sullivan', 'ha', 'said', 'that', 'mr', 'ebbers', 'ordered', 'accounting', 'adjustment', 'at', 'the', 'firm', 'telling', 'him', 'to', 'hit', 'our', 'book', '.', 'however', 'm', 'cooper', 'said', 'mr', 'sullivan', 'had', 'not', 'mentioned', 'anything', 'uncomfortable', 'about', 'worldcom', 's', 'accounting', 'during', 'a', '2001', 'audit', 'committee', 'meeting', '.', 'mr', 'ebbers', 'could', 'face', 'a', 'jail', 'sentence', 'of', '85', 'year', 'if', 'convicted', 'of', 'all', 'the', 'charge', 'he', 'is', 'facing', '.', 'worldcom', 'emerged', 'from', 'bankruptcy', 'protection', 'in', '2004', 'and', 'is', 'now', 'known', 'a', 'mci', '.', 'last', 'week', 'mci', 'agreed', 'to', 'a', 'buyout', 'by', 'verizon', 'communication', 'in', 'a', 'deal', 'valued', 'at', '$', '6.75bn', '.']\n"
          ]
        }
      ]
    },
    {
      "cell_type": "code",
      "source": [
        "# Task 5: Named Entity Recognition with SpaCy\n",
        "nlp = spacy.load(\"en_core_web_sm\")\n",
        "doc = nlp(sample_article)\n",
        "displacy.render(doc, style=\"ent\", jupyter=True)"
      ],
      "metadata": {
        "colab": {
          "base_uri": "https://localhost:8080/",
          "height": 472
        },
        "id": "JNXTYhUZaaSQ",
        "outputId": "dbaa9c07-b79d-40b6-d6f1-2a84c7dbe826"
      },
      "execution_count": 11,
      "outputs": [
        {
          "output_type": "display_data",
          "data": {
            "text/plain": [
              "<IPython.core.display.HTML object>"
            ],
            "text/html": [
              "<span class=\"tex2jax_ignore\"><div class=\"entities\" style=\"line-height: 2.5; direction: ltr\">\n",
              "<mark class=\"entity\" style=\"background: #aa9cfc; padding: 0.45em 0.6em; margin: 0 0.25em; line-height: 1; border-radius: 0.35em;\">\n",
              "    worldcom ex-boss\n",
              "    <span style=\"font-size: 0.8em; font-weight: bold; line-height: 1; border-radius: 0.35em; vertical-align: middle; margin-left: 0.5rem\">PERSON</span>\n",
              "</mark>\n",
              " launches defence lawyers defending former \n",
              "<mark class=\"entity\" style=\"background: #7aecec; padding: 0.45em 0.6em; margin: 0 0.25em; line-height: 1; border-radius: 0.35em;\">\n",
              "    worldcom\n",
              "    <span style=\"font-size: 0.8em; font-weight: bold; line-height: 1; border-radius: 0.35em; vertical-align: middle; margin-left: 0.5rem\">ORG</span>\n",
              "</mark>\n",
              " chief \n",
              "<mark class=\"entity\" style=\"background: #aa9cfc; padding: 0.45em 0.6em; margin: 0 0.25em; line-height: 1; border-radius: 0.35em;\">\n",
              "    bernie\n",
              "    <span style=\"font-size: 0.8em; font-weight: bold; line-height: 1; border-radius: 0.35em; vertical-align: middle; margin-left: 0.5rem\">PERSON</span>\n",
              "</mark>\n",
              " ebbers against a battery of fraud charges have called a company whistleblower as their \n",
              "<mark class=\"entity\" style=\"background: #e4e7d2; padding: 0.45em 0.6em; margin: 0 0.25em; line-height: 1; border-radius: 0.35em;\">\n",
              "    first\n",
              "    <span style=\"font-size: 0.8em; font-weight: bold; line-height: 1; border-radius: 0.35em; vertical-align: middle; margin-left: 0.5rem\">ORDINAL</span>\n",
              "</mark>\n",
              " witness.  \n",
              "<mark class=\"entity\" style=\"background: #aa9cfc; padding: 0.45em 0.6em; margin: 0 0.25em; line-height: 1; border-radius: 0.35em;\">\n",
              "    cynthia cooper  worldcom s ex-head\n",
              "    <span style=\"font-size: 0.8em; font-weight: bold; line-height: 1; border-radius: 0.35em; vertical-align: middle; margin-left: 0.5rem\">PERSON</span>\n",
              "</mark>\n",
              " of internal accounting  alerted directors to irregular accounting practices at the \n",
              "<mark class=\"entity\" style=\"background: #feca74; padding: 0.45em 0.6em; margin: 0 0.25em; line-height: 1; border-radius: 0.35em;\">\n",
              "    us\n",
              "    <span style=\"font-size: 0.8em; font-weight: bold; line-height: 1; border-radius: 0.35em; vertical-align: middle; margin-left: 0.5rem\">GPE</span>\n",
              "</mark>\n",
              " telecoms giant in \n",
              "<mark class=\"entity\" style=\"background: #bfe1d9; padding: 0.45em 0.6em; margin: 0 0.25em; line-height: 1; border-radius: 0.35em;\">\n",
              "    2002\n",
              "    <span style=\"font-size: 0.8em; font-weight: bold; line-height: 1; border-radius: 0.35em; vertical-align: middle; margin-left: 0.5rem\">DATE</span>\n",
              "</mark>\n",
              ". her warnings led to the collapse of the firm following the discovery of an $11bn (£\n",
              "<mark class=\"entity\" style=\"background: #e4e7d2; padding: 0.45em 0.6em; margin: 0 0.25em; line-height: 1; border-radius: 0.35em;\">\n",
              "    5.7bn\n",
              "    <span style=\"font-size: 0.8em; font-weight: bold; line-height: 1; border-radius: 0.35em; vertical-align: middle; margin-left: 0.5rem\">MONEY</span>\n",
              "</mark>\n",
              ") accounting fraud. mr ebbers has pleaded not guilty to charges of fraud and conspiracy.  prosecution lawyers have argued that mr ebbers orchestrated a series of accounting tricks at \n",
              "<mark class=\"entity\" style=\"background: #7aecec; padding: 0.45em 0.6em; margin: 0 0.25em; line-height: 1; border-radius: 0.35em;\">\n",
              "    worldcom\n",
              "    <span style=\"font-size: 0.8em; font-weight: bold; line-height: 1; border-radius: 0.35em; vertical-align: middle; margin-left: 0.5rem\">ORG</span>\n",
              "</mark>\n",
              "  ordering employees to hide expenses and inflate revenues to meet wall street earnings estimates. but ms cooper  who now runs her own consulting business  told a jury in \n",
              "<mark class=\"entity\" style=\"background: #feca74; padding: 0.45em 0.6em; margin: 0 0.25em; line-height: 1; border-radius: 0.35em;\">\n",
              "    new york\n",
              "    <span style=\"font-size: 0.8em; font-weight: bold; line-height: 1; border-radius: 0.35em; vertical-align: middle; margin-left: 0.5rem\">GPE</span>\n",
              "</mark>\n",
              " on \n",
              "<mark class=\"entity\" style=\"background: #bfe1d9; padding: 0.45em 0.6em; margin: 0 0.25em; line-height: 1; border-radius: 0.35em;\">\n",
              "    wednesday\n",
              "    <span style=\"font-size: 0.8em; font-weight: bold; line-height: 1; border-radius: 0.35em; vertical-align: middle; margin-left: 0.5rem\">DATE</span>\n",
              "</mark>\n",
              " that external auditors \n",
              "<mark class=\"entity\" style=\"background: #aa9cfc; padding: 0.45em 0.6em; margin: 0 0.25em; line-height: 1; border-radius: 0.35em;\">\n",
              "    arthur andersen\n",
              "    <span style=\"font-size: 0.8em; font-weight: bold; line-height: 1; border-radius: 0.35em; vertical-align: middle; margin-left: 0.5rem\">PERSON</span>\n",
              "</mark>\n",
              " had approved \n",
              "<mark class=\"entity\" style=\"background: #7aecec; padding: 0.45em 0.6em; margin: 0 0.25em; line-height: 1; border-radius: 0.35em;\">\n",
              "    worldcom\n",
              "    <span style=\"font-size: 0.8em; font-weight: bold; line-height: 1; border-radius: 0.35em; vertical-align: middle; margin-left: 0.5rem\">ORG</span>\n",
              "</mark>\n",
              " s accounting in \n",
              "<mark class=\"entity\" style=\"background: #bfe1d9; padding: 0.45em 0.6em; margin: 0 0.25em; line-height: 1; border-radius: 0.35em;\">\n",
              "    early 2001 and 2002\n",
              "    <span style=\"font-size: 0.8em; font-weight: bold; line-height: 1; border-radius: 0.35em; vertical-align: middle; margin-left: 0.5rem\">DATE</span>\n",
              "</mark>\n",
              ". she said andersen had given a  green light  to the procedures and practices used by \n",
              "<mark class=\"entity\" style=\"background: #7aecec; padding: 0.45em 0.6em; margin: 0 0.25em; line-height: 1; border-radius: 0.35em;\">\n",
              "    worldcom\n",
              "    <span style=\"font-size: 0.8em; font-weight: bold; line-height: 1; border-radius: 0.35em; vertical-align: middle; margin-left: 0.5rem\">ORG</span>\n",
              "</mark>\n",
              ". mr ebber s lawyers have said he was unaware of the fraud  arguing that auditors did not alert him to any problems.  ms \n",
              "<mark class=\"entity\" style=\"background: #aa9cfc; padding: 0.45em 0.6em; margin: 0 0.25em; line-height: 1; border-radius: 0.35em;\">\n",
              "    cooper\n",
              "    <span style=\"font-size: 0.8em; font-weight: bold; line-height: 1; border-radius: 0.35em; vertical-align: middle; margin-left: 0.5rem\">PERSON</span>\n",
              "</mark>\n",
              " also said that during shareholder meetings mr ebbers often passed over technical questions to the company s finance chief  giving only  brief  answers himself. the prosecution s star witness  former \n",
              "<mark class=\"entity\" style=\"background: #7aecec; padding: 0.45em 0.6em; margin: 0 0.25em; line-height: 1; border-radius: 0.35em;\">\n",
              "    worldcom financial\n",
              "    <span style=\"font-size: 0.8em; font-weight: bold; line-height: 1; border-radius: 0.35em; vertical-align: middle; margin-left: 0.5rem\">ORG</span>\n",
              "</mark>\n",
              " chief \n",
              "<mark class=\"entity\" style=\"background: #aa9cfc; padding: 0.45em 0.6em; margin: 0 0.25em; line-height: 1; border-radius: 0.35em;\">\n",
              "    scott sullivan\n",
              "    <span style=\"font-size: 0.8em; font-weight: bold; line-height: 1; border-radius: 0.35em; vertical-align: middle; margin-left: 0.5rem\">PERSON</span>\n",
              "</mark>\n",
              "  has said that mr ebbers ordered accounting adjustments at the firm  telling him to  hit our books . however  ms cooper said mr \n",
              "<mark class=\"entity\" style=\"background: #aa9cfc; padding: 0.45em 0.6em; margin: 0 0.25em; line-height: 1; border-radius: 0.35em;\">\n",
              "    sullivan\n",
              "    <span style=\"font-size: 0.8em; font-weight: bold; line-height: 1; border-radius: 0.35em; vertical-align: middle; margin-left: 0.5rem\">PERSON</span>\n",
              "</mark>\n",
              " had not mentioned  anything uncomfortable  about worldcom s accounting during a \n",
              "<mark class=\"entity\" style=\"background: #bfe1d9; padding: 0.45em 0.6em; margin: 0 0.25em; line-height: 1; border-radius: 0.35em;\">\n",
              "    2001\n",
              "    <span style=\"font-size: 0.8em; font-weight: bold; line-height: 1; border-radius: 0.35em; vertical-align: middle; margin-left: 0.5rem\">DATE</span>\n",
              "</mark>\n",
              " audit committee meeting. mr ebbers could face a jail sentence of \n",
              "<mark class=\"entity\" style=\"background: #bfe1d9; padding: 0.45em 0.6em; margin: 0 0.25em; line-height: 1; border-radius: 0.35em;\">\n",
              "    85 years\n",
              "    <span style=\"font-size: 0.8em; font-weight: bold; line-height: 1; border-radius: 0.35em; vertical-align: middle; margin-left: 0.5rem\">DATE</span>\n",
              "</mark>\n",
              " if convicted of all the charges he is facing. \n",
              "<mark class=\"entity\" style=\"background: #7aecec; padding: 0.45em 0.6em; margin: 0 0.25em; line-height: 1; border-radius: 0.35em;\">\n",
              "    worldcom\n",
              "    <span style=\"font-size: 0.8em; font-weight: bold; line-height: 1; border-radius: 0.35em; vertical-align: middle; margin-left: 0.5rem\">ORG</span>\n",
              "</mark>\n",
              " emerged from bankruptcy protection in \n",
              "<mark class=\"entity\" style=\"background: #bfe1d9; padding: 0.45em 0.6em; margin: 0 0.25em; line-height: 1; border-radius: 0.35em;\">\n",
              "    2004\n",
              "    <span style=\"font-size: 0.8em; font-weight: bold; line-height: 1; border-radius: 0.35em; vertical-align: middle; margin-left: 0.5rem\">DATE</span>\n",
              "</mark>\n",
              "  and is now known as \n",
              "<mark class=\"entity\" style=\"background: #7aecec; padding: 0.45em 0.6em; margin: 0 0.25em; line-height: 1; border-radius: 0.35em;\">\n",
              "    mci\n",
              "    <span style=\"font-size: 0.8em; font-weight: bold; line-height: 1; border-radius: 0.35em; vertical-align: middle; margin-left: 0.5rem\">ORG</span>\n",
              "</mark>\n",
              ". \n",
              "<mark class=\"entity\" style=\"background: #bfe1d9; padding: 0.45em 0.6em; margin: 0 0.25em; line-height: 1; border-radius: 0.35em;\">\n",
              "    last week\n",
              "    <span style=\"font-size: 0.8em; font-weight: bold; line-height: 1; border-radius: 0.35em; vertical-align: middle; margin-left: 0.5rem\">DATE</span>\n",
              "</mark>\n",
              "  \n",
              "<mark class=\"entity\" style=\"background: #7aecec; padding: 0.45em 0.6em; margin: 0 0.25em; line-height: 1; border-radius: 0.35em;\">\n",
              "    mci\n",
              "    <span style=\"font-size: 0.8em; font-weight: bold; line-height: 1; border-radius: 0.35em; vertical-align: middle; margin-left: 0.5rem\">ORG</span>\n",
              "</mark>\n",
              " agreed to a buyout by verizon communications in a deal valued at $\n",
              "<mark class=\"entity\" style=\"background: #e4e7d2; padding: 0.45em 0.6em; margin: 0 0.25em; line-height: 1; border-radius: 0.35em;\">\n",
              "    6.75bn\n",
              "    <span style=\"font-size: 0.8em; font-weight: bold; line-height: 1; border-radius: 0.35em; vertical-align: middle; margin-left: 0.5rem\">MONEY</span>\n",
              "</mark>\n",
              ".</div></span>"
            ]
          },
          "metadata": {}
        }
      ]
    },
    {
      "cell_type": "code",
      "source": [
        "# Task 6: Word2Vec with gensim\n",
        "sentences = [word_tokenize(article) for article in df['Text']]\n",
        "word2vec_model = Word2Vec(sentences, vector_size=100, window=5, min_count=1, workers=4)"
      ],
      "metadata": {
        "id": "f09o2I8kafPH"
      },
      "execution_count": 12,
      "outputs": []
    },
    {
      "cell_type": "code",
      "source": [
        "# Get vector representation of a sample word\n",
        "sample_word_vector = word2vec_model.wv['sample']\n",
        "print(\"\\nWord2Vec with gensim - Vector representation of 'sample':\", sample_word_vector)"
      ],
      "metadata": {
        "colab": {
          "base_uri": "https://localhost:8080/"
        },
        "id": "i8z8pNlOanzC",
        "outputId": "c884bbde-7f29-4117-ef67-6b28de3f7c38"
      },
      "execution_count": 13,
      "outputs": [
        {
          "output_type": "stream",
          "name": "stdout",
          "text": [
            "\n",
            "Word2Vec with gensim - Vector representation of 'sample': [-0.01151732  0.0864388  -0.00820681  0.01198654  0.04814653 -0.10581327\n",
            " -0.02857972  0.13516779 -0.06370393 -0.0513782  -0.02205362 -0.06476305\n",
            "  0.00464555  0.00840096  0.06711    -0.06885602  0.07714604 -0.06072763\n",
            "  0.03082088 -0.10884771  0.05934846  0.00984306  0.06359379 -0.0338015\n",
            "  0.01568069 -0.046829   -0.11158412  0.01679148 -0.05996404 -0.00053319\n",
            "  0.09854335 -0.0388101   0.02445992 -0.12494642  0.00191479  0.05541306\n",
            "  0.01439658 -0.01624904 -0.02484631 -0.09023548 -0.01364749 -0.05923644\n",
            " -0.04967679  0.04008827  0.0537195   0.02267633 -0.07054133  0.00340478\n",
            "  0.00569881  0.02455191  0.05622242 -0.08629406 -0.0229742  -0.02066166\n",
            "  0.01637956  0.01121017  0.06532785  0.03676561 -0.07041118 -0.01215285\n",
            "  0.01180393  0.01714104 -0.01940402  0.03000361 -0.01001607  0.06273773\n",
            "  0.0072099   0.03676554 -0.05372756  0.04453144 -0.04235607 -0.01348015\n",
            "  0.09369236  0.02946641  0.0319985  -0.05690531  0.01878851 -0.03534034\n",
            " -0.01182422 -0.01577108 -0.06313758 -0.00524855 -0.07180045  0.06245581\n",
            " -0.00546193 -0.01636546  0.01432091  0.08605643  0.0658258   0.02146672\n",
            "  0.11522219 -0.00460271  0.00081966 -0.01413905  0.08193518  0.03804189\n",
            " -0.01032828 -0.04182971 -0.00175747 -0.02085764]\n"
          ]
        }
      ]
    },
    {
      "cell_type": "code",
      "source": [
        "# Task 7: TF-IDF with scikit-learn\n",
        "tfidf_vectorizer = TfidfVectorizer()\n",
        "tfidf_matrix = tfidf_vectorizer.fit_transform(df['Text'])"
      ],
      "metadata": {
        "id": "Z7HWoWhAawV2"
      },
      "execution_count": 14,
      "outputs": []
    },
    {
      "cell_type": "code",
      "source": [
        "# Calculate cosine similarity between two news articles\n",
        "article1_index = 0\n",
        "article2_index = 1\n",
        "cosine_sim = cosine_similarity(tfidf_matrix[article1_index], tfidf_matrix[article2_index])"
      ],
      "metadata": {
        "id": "y9NkNt3pa1XT"
      },
      "execution_count": 15,
      "outputs": []
    },
    {
      "cell_type": "code",
      "source": [
        "print(\"\\nTF-IDF with scikit-learn - Cosine Similarity between Article 1 and Article 2:\", cosine_sim[0][0])"
      ],
      "metadata": {
        "colab": {
          "base_uri": "https://localhost:8080/"
        },
        "id": "XwT4axr7a-L_",
        "outputId": "9d5be1fe-7377-4591-db93-fe839a53f03a"
      },
      "execution_count": 16,
      "outputs": [
        {
          "output_type": "stream",
          "name": "stdout",
          "text": [
            "\n",
            "TF-IDF with scikit-learn - Cosine Similarity between Article 1 and Article 2: 0.07875931547482325\n"
          ]
        }
      ]
    },
    {
      "cell_type": "code",
      "source": [],
      "metadata": {
        "id": "XTFAjKdlbFBv"
      },
      "execution_count": null,
      "outputs": []
    }
  ]
}